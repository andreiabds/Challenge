{
 "cells": [
  {
   "cell_type": "code",
   "execution_count": null,
   "metadata": {
    "collapsed": false
   },
   "outputs": [],
   "source": [
    "from Metrics import fill_list, true_fill_list, cardinality_list, unique_values_list\n",
    "from DataCleaning import df_cleaner, series_cleaner\n",
    "\n",
    "import matplotlib as plt\n",
    "%matplotlib inline\n",
    "import numpy as np\n",
    "import pandas as pd\n",
    "import seaborn as sbn"
   ]
  },
  {
   "cell_type": "code",
   "execution_count": null,
   "metadata": {
    "collapsed": true
   },
   "outputs": [],
   "source": [
    "df = pd.read_json('data_analysis.json')"
   ]
  },
  {
   "cell_type": "code",
   "execution_count": null,
   "metadata": {
    "collapsed": false
   },
   "outputs": [],
   "source": [
    "df.head()\n",
    "df.columns\n",
    "df.count()\n",
    "df.isnull().sum()"
   ]
  },
  {
   "cell_type": "code",
   "execution_count": null,
   "metadata": {
    "collapsed": false
   },
   "outputs": [],
   "source": [
    "#DATAFRAME unique values and features\n",
    "unique = pd.DataFrame()\n",
    "unique['features'] = df.columns\n",
    "unique['unique_values'] = unique_values_list(df)\n",
    "df2 = unique.sort_values('unique_values').reset_index(drop=True)\n",
    "print df2\n",
    "print df2.plot.bar(x=df2['features'])"
   ]
  },
  {
   "cell_type": "code",
   "execution_count": null,
   "metadata": {
    "collapsed": false,
    "scrolled": true
   },
   "outputs": [],
   "source": [
    "df['time_in_business'].unique()"
   ]
  },
  {
   "cell_type": "code",
   "execution_count": null,
   "metadata": {
    "collapsed": false,
    "scrolled": true
   },
   "outputs": [],
   "source": [
    "#Checking for non-unicode items (integers, null values, etc)\n",
    "for i, column in enumerate(df.columns):\n",
    "    print i, column\n",
    "    for item in df[column].unique():\n",
    "        if type(item) is not unicode:\n",
    "            print item\n",
    "    print"
   ]
  },
  {
   "cell_type": "code",
   "execution_count": null,
   "metadata": {
    "collapsed": false
   },
   "outputs": [],
   "source": [
    "#DATAFRAME metrics\n",
    "df_result = pd.DataFrame()\n",
    "df_result['features'] = df.columns\n",
    "df_result['old_cardinality'] = unique_values_list(df)\n",
    "df_result['true_cardinality'] = cardinality_list(df)\n",
    "df_result['diff_cardinality'] = df_result['old_cardinality'] - df_result['true_cardinality']\n",
    "df_result['fill_data'] = fill_list(df)\n",
    "df_result['fill_rate'] = (df_result['fill_data']/len(df))\n",
    "df_result['true_fill_data'] = true_fill_list(df)\n",
    "df_result['true_fill_rate'] = df_result['true_fill_data'] /len(df)\n",
    "df_result['diff_fill_data'] = df_result['fill_data'] - df_result['true_fill_data']\n",
    "\n",
    "pd.options.display.float_format = '{:.4f}'.format\n",
    "df_result"
   ]
  },
  {
   "cell_type": "code",
   "execution_count": null,
   "metadata": {
    "collapsed": false,
    "scrolled": true
   },
   "outputs": [],
   "source": [
    "fill_rate = df_result[['features','fill_data', 'fill_rate']]\n",
    "fill_rate"
   ]
  },
  {
   "cell_type": "code",
   "execution_count": null,
   "metadata": {
    "collapsed": false
   },
   "outputs": [],
   "source": [
    "#DATAFRAME and GRAPH true fill rate\n",
    "\n",
    "true_fill_rate = df_result[['features','true_fill_data', 'true_fill_rate']]\n",
    "print true_fill_rate\n",
    "\n",
    "graph_rate = true_fill_rate.iloc[:,0:2].sort(columns='true_fill_data')\n",
    "ax = graph_rate.plot(x=graph_rate['features'], kind='bar', title='True-Valued Fill Rate', sort_columns=True, legend=False)\n",
    "ax.set_ylabel(\"Number of Good Data Records\")"
   ]
  },
  {
   "cell_type": "code",
   "execution_count": null,
   "metadata": {
    "collapsed": false
   },
   "outputs": [],
   "source": [
    "cardinality = df_result[['features', 'true_cardinality']].sort_values('true_cardinality').reset_index(drop=True)\n",
    "cardinality"
   ]
  },
  {
   "cell_type": "code",
   "execution_count": null,
   "metadata": {
    "collapsed": false
   },
   "outputs": [],
   "source": [
    "df_clean = df_cleaner(df)"
   ]
  },
  {
   "cell_type": "code",
   "execution_count": null,
   "metadata": {
    "collapsed": false
   },
   "outputs": [],
   "source": [
    "#PLOT revenue distribution for all clean data\n",
    "\n",
    "df_revenue = df_clean['clean_revenue'].value_counts().sort_values(ascending=False)\n",
    "df_revenue = df_revenue.reindex(index = [u'less than $500,000', u'$500,000 to $1 million', u'$1 to 2.5 million',\n",
    "       u'$2.5 to 5 million', u'$5 to 10 million', u'$10 to 20 million',\n",
    "       u'$20 to 50 million', u'$50 to 100 million', u'$100 to 500 million',\n",
    "        u'over $500 million', u'over $1 billion'])\n",
    "df_revenue.plot(kind='bar', title='Revenue')"
   ]
  },
  {
   "cell_type": "code",
   "execution_count": null,
   "metadata": {
    "collapsed": false
   },
   "outputs": [],
   "source": [
    "#PLOT headcount distribution for all clean data\n",
    "\n",
    "headcount = df_clean['clean_headcount'].value_counts().sort_values(ascending=False)\n",
    "headcount = headcount.reindex(index = [u'1 to 4', u'5 to 9', u'10 to 19', u'20 to 49', u'50 to 99',\n",
    "       u'100 to 249', u'250 to 499', u'500 to 999', u'over 1,000'])\n",
    "headcount.plot(kind='bar', title='Headcount')"
   ]
  },
  {
   "cell_type": "code",
   "execution_count": null,
   "metadata": {
    "collapsed": false
   },
   "outputs": [],
   "source": [
    "#PLOT time_in_business distribution for all clean data\n",
    "time = df_clean['clean_time_in_business'].value_counts().sort_values(ascending=False)\n",
    "print time\n",
    "time.plot(kind='bar', title='Time in Business')"
   ]
  },
  {
   "cell_type": "code",
   "execution_count": null,
   "metadata": {
    "collapsed": false
   },
   "outputs": [],
   "source": [
    "df_clean[df_clean['clean_time_in_business']=='less than a year']"
   ]
  },
  {
   "cell_type": "code",
   "execution_count": null,
   "metadata": {
    "collapsed": false
   },
   "outputs": [],
   "source": [
    "#Analyzing Billionaires \n",
    "billion = df_clean[df_clean['clean_revenue']=='over $1 billion']\n",
    "s = billion['clean_headcount'].value_counts()\n",
    "s = s.reindex(index = [u'1 to 4', u'5 to 9', u'10 to 19', u'20 to 49', u'50 to 99',\n",
    "       u'100 to 249', u'250 to 499', u'500 to 999', u'over 1,000'])\n",
    "s.plot(kind='bar', title= \"Headcount in Businesses with Over $1 billion Revenue\")"
   ]
  },
  {
   "cell_type": "code",
   "execution_count": null,
   "metadata": {
    "collapsed": false
   },
   "outputs": [],
   "source": [
    "min_billion = billion[billion['clean_headcount']=='1 to 4']"
   ]
  },
  {
   "cell_type": "code",
   "execution_count": null,
   "metadata": {
    "collapsed": false
   },
   "outputs": [],
   "source": [
    "min_billion['clean_name'].value_counts().sort_values(ascending=False)"
   ]
  },
  {
   "cell_type": "code",
   "execution_count": null,
   "metadata": {
    "collapsed": false
   },
   "outputs": [],
   "source": [
    "min_billion[min_billion['clean_name'].str.contains(\"san francisco\")]"
   ]
  },
  {
   "cell_type": "code",
   "execution_count": null,
   "metadata": {
    "collapsed": false
   },
   "outputs": [],
   "source": [
    "min_billion[min_billion['clean_name']=='volunteers for outdoor colorado']"
   ]
  },
  {
   "cell_type": "code",
   "execution_count": null,
   "metadata": {
    "collapsed": false
   },
   "outputs": [],
   "source": [
    "min_billion[min_billion['clean_name'].str.contains(\"elementary\")]"
   ]
  },
  {
   "cell_type": "code",
   "execution_count": null,
   "metadata": {
    "collapsed": true
   },
   "outputs": [],
   "source": []
  },
  {
   "cell_type": "code",
   "execution_count": null,
   "metadata": {
    "collapsed": true
   },
   "outputs": [],
   "source": [
    "#EXTRA\n",
    "revenue_dfs = {}\n",
    "for revenue in df_clean['clean_revenue'].unique():\n",
    "    df3 = df_clean['clean_state'][df_clean['clean_revenue']==revenue]\n",
    "    \n",
    "    \n",
    "    revenue_dfs[revenue] = pd.DataFrame({'state':df3.value_counts().index.tolist(),\n",
    "                    'values':df3.value_counts().tolist()})\n",
    "    \n",
    "    \n",
    "df_final = reduce(lambda left,right: pd.merge(left,right,on='state'), revenue_dfs.values()[1:])\n",
    "column_names = ['state'] + revenue_dfs.keys()[1:]\n",
    "df_final.columns = column_names\n",
    "df_final['sum'] = df_final.sum(axis=1)\n",
    "df_final.loc[len(df_final)]= df_final.iloc[:,1:].sum(axis=0)\n",
    "df_final\n",
    "\n",
    "\n",
    "#Exploring rows with null in the \"names\" column\n",
    "null_name = df[df['name'].isnull()]\n",
    "for i in null_name['address']:\n",
    "    print df[df['address']==i]\n",
    "    print \n"
   ]
  }
 ],
 "metadata": {
  "anaconda-cloud": {},
  "kernelspec": {
   "display_name": "Python [default]",
   "language": "python",
   "name": "python2"
  },
  "language_info": {
   "codemirror_mode": {
    "name": "ipython",
    "version": 2
   },
   "file_extension": ".py",
   "mimetype": "text/x-python",
   "name": "python",
   "nbconvert_exporter": "python",
   "pygments_lexer": "ipython2",
   "version": "2.7.12"
  }
 },
 "nbformat": 4,
 "nbformat_minor": 1
}
